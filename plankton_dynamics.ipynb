{
 "cells": [
  {
   "cell_type": "markdown",
   "metadata": {},
   "source": [
    "#\n",
    "\n",
    "We need methods to bridge multivariate measures (too abstract and tricky to interpret wrt to community change) with community structure and composition.\n",
    "\n",
    "\n",
    "## Rank Abundance Curves\n",
    "\n",
    "### What's a rank abundance curve?\n",
    "\n",
    "A rank abundance curve is plot of abundance rank (most abundant is 1st, second most is rank 2 and so forth) vs. species abundance.\n",
    "\n",
    "\n",
    "The library codyn has functions that are designed to use RACs:\n",
    "- RAC_change()\n",
    "- RAC_diffference()\n",
    "\n",
    "They extend the existing rank_change() and turnover() functions in codyn.\n",
    "\n",
    "RAC_change() computes change in species evenness:\n",
    "\n",
    "$$ \\Delta S = \\frac{S_{t+1}-S_{t}}{S_{total}}$$ where \n",
    "\n",
    "$S_{t} = $ richness at time t at replicate\n",
    "\n",
    "$S_{t+1} = $ richness at time t + 1 at same replicate\n",
    "\n",
    "$S_{total} =$ total number of unique species at both time periods\n",
    "\n",
    "\n",
    "RAC_differrence computes species richness difference\n",
    "\n",
    "$$ S.D. = \\frac{S_x - S_y}{S_{total}}$$\n",
    "\n",
    "$S_x$ and $S_y$ are the levels species richness at 2 replicates\n",
    "\n",
    "$S_{total}$ is total number of unique species at both replicates.\n",
    "\n",
    "\n",
    "NOTE:\n",
    "\n",
    "$\\Delta S$ and $S.D$ are proportions bound between -1 and 1.\n",
    "\n",
    "\n",
    "community_structure() allows you specify 3 eveness measures.\n",
    "1. inverse of Simpson's D\n",
    "    - $P_i = \\frac{x_i}{\\sum x}$\n",
    "    - $D = \\sum_{x_i}^{S}P_i$\n",
    "    - SimpEven = $\\frac{\\frac{1}{D}}{S}$ where $x_i$ is the abundance of species i\n",
    "2. $E_Q$ a measure of the slope of an RAC and converts it to a 0-1 scale. if the slope is relatively flat, evenness is high and if it is steep evenness is low.\n",
    "\n",
    "$$ E_Q = \\frac{-2}{\\pi*arctan(b')}$$ where $b'$ is the slope of the line fitted by a linear model of rleationship between the relative rank of a species vs. its log abundance.\n",
    "\n",
    "NOTE: This paper likes $E_Q$ bc it doesn't report an evenness of 1 if only 1 species is present like the first method and has a more normal distribution of values than $E_{var}$ .\n",
    "\n",
    "3. $E_{var}$ a measure of the variance of abundance values normalized to 1.\n",
    "    $$E_{var} = 1 - \\frac{2}{\\pi} a tan(\\frac{s-1}{x}var(lnx))$$\n",
    "    \n",
    "    where s is the number of species in the sample and var is the sample variance. WHAT IS X tho???\n"
   ]
  },
  {
   "cell_type": "code",
   "execution_count": 3,
   "metadata": {},
   "outputs": [
    {
     "name": "stderr",
     "output_type": "stream",
     "text": [
      "Installing package into ‘/home/miras/R/x86_64-pc-linux-gnu-library/3.6’\n",
      "(as ‘lib’ is unspecified)\n",
      "\n"
     ]
    }
   ],
   "source": [
    "library(\"dplyr\")\n",
    "install.packages(\"codyn\")\n",
    "library(\"codyn\")\n"
   ]
  },
  {
   "cell_type": "code",
   "execution_count": 2,
   "metadata": {},
   "outputs": [],
   "source": [
    "??codyn"
   ]
  },
  {
   "cell_type": "code",
   "execution_count": null,
   "metadata": {},
   "outputs": [],
   "source": [
    "df = read.csv('/D/MIT-WHOI/data/2021/biovol_concentration_by_class_time_seriesCNN_hourly.csv')\n",
    "head(df)"
   ]
  }
 ],
 "metadata": {
  "kernelspec": {
   "display_name": "R",
   "language": "R",
   "name": "ir"
  },
  "language_info": {
   "codemirror_mode": "r",
   "file_extension": ".r",
   "mimetype": "text/x-r-source",
   "name": "R",
   "pygments_lexer": "r",
   "version": "3.6.3"
  }
 },
 "nbformat": 4,
 "nbformat_minor": 4
}
