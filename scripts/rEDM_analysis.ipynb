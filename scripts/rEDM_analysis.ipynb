{
 "cells": [
  {
   "cell_type": "markdown",
   "metadata": {},
   "source": [
    "## Applying Suigihara's empirical dynamic modelling approach to NES system data\n",
    "\n",
    "\n",
    "- What is empirical dynamic modelling?\n",
    "\n",
    "     \"time series can viewd as projections of the behavior of a dynamic system\" see vignettes\n",
    " \n",
    "1. determining complexity\n",
    "2. nonlinear or linear stochastic system? what type of nonlinearity?\n",
    "3. find causal variables?\n",
    "4. forecasting\n",
    "5. track strength and sign of interaction\n",
    "6. explore perturbation scenarios\n",
    "\n"
   ]
  },
  {
   "cell_type": "code",
   "execution_count": 8,
   "metadata": {},
   "outputs": [
    {
     "name": "stderr",
     "output_type": "stream",
     "text": [
      "\n",
      "Attaching package: ‘dplyr’\n",
      "\n",
      "\n",
      "The following objects are masked from ‘package:stats’:\n",
      "\n",
      "    filter, lag\n",
      "\n",
      "\n",
      "The following objects are masked from ‘package:base’:\n",
      "\n",
      "    intersect, setdiff, setequal, union\n",
      "\n",
      "\n"
     ]
    }
   ],
   "source": [
    "# install.packages(\"rEDM\")\n",
    "library(\"rEDM\")\n",
    "library(\"dplyr\")\n",
    "library(\"tidyr\")\n",
    "library(\"ggplot2\")\n"
   ]
  },
  {
   "cell_type": "code",
   "execution_count": 7,
   "metadata": {},
   "outputs": [
    {
     "name": "stdout",
     "output_type": "stream",
     "text": [
      "'data.frame':\t999 obs. of  2 variables:\n",
      " $ Time   : int  1 2 3 4 5 6 7 8 9 10 ...\n",
      " $ TentMap: num  -0.0992 -0.6013 0.7998 -0.7944 0.798 ...\n"
     ]
    },
    {
     "data": {
      "text/html": [
       "<table>\n",
       "<caption>A data.frame: 6 × 2</caption>\n",
       "<thead>\n",
       "\t<tr><th></th><th scope=col>Time</th><th scope=col>TentMap</th></tr>\n",
       "\t<tr><th></th><th scope=col>&lt;int&gt;</th><th scope=col>&lt;dbl&gt;</th></tr>\n",
       "</thead>\n",
       "<tbody>\n",
       "\t<tr><th scope=row>1</th><td>1</td><td>-0.09920</td></tr>\n",
       "\t<tr><th scope=row>2</th><td>2</td><td>-0.60130</td></tr>\n",
       "\t<tr><th scope=row>3</th><td>3</td><td> 0.79980</td></tr>\n",
       "\t<tr><th scope=row>4</th><td>4</td><td>-0.79441</td></tr>\n",
       "\t<tr><th scope=row>5</th><td>5</td><td> 0.79800</td></tr>\n",
       "\t<tr><th scope=row>6</th><td>6</td><td>-0.81954</td></tr>\n",
       "</tbody>\n",
       "</table>\n"
      ],
      "text/latex": [
       "A data.frame: 6 × 2\n",
       "\\begin{tabular}{r|ll}\n",
       "  & Time & TentMap\\\\\n",
       "  & <int> & <dbl>\\\\\n",
       "\\hline\n",
       "\t1 & 1 & -0.09920\\\\\n",
       "\t2 & 2 & -0.60130\\\\\n",
       "\t3 & 3 &  0.79980\\\\\n",
       "\t4 & 4 & -0.79441\\\\\n",
       "\t5 & 5 &  0.79800\\\\\n",
       "\t6 & 6 & -0.81954\\\\\n",
       "\\end{tabular}\n"
      ],
      "text/markdown": [
       "\n",
       "A data.frame: 6 × 2\n",
       "\n",
       "| <!--/--> | Time &lt;int&gt; | TentMap &lt;dbl&gt; |\n",
       "|---|---|---|\n",
       "| 1 | 1 | -0.09920 |\n",
       "| 2 | 2 | -0.60130 |\n",
       "| 3 | 3 |  0.79980 |\n",
       "| 4 | 4 | -0.79441 |\n",
       "| 5 | 5 |  0.79800 |\n",
       "| 6 | 6 | -0.81954 |\n",
       "\n"
      ],
      "text/plain": [
       "  Time TentMap \n",
       "1 1    -0.09920\n",
       "2 2    -0.60130\n",
       "3 3     0.79980\n",
       "4 4    -0.79441\n",
       "5 5     0.79800\n",
       "6 6    -0.81954"
      ]
     },
     "metadata": {},
     "output_type": "display_data"
    }
   ],
   "source": [
    "vignette(\"rEDM-tutorial\")\n",
    "str(TentMap)\n",
    "head(TentMap)"
   ]
  },
  {
   "cell_type": "code",
   "execution_count": 10,
   "metadata": {},
   "outputs": [
    {
     "data": {
      "text/html": [
       "<table>\n",
       "<caption>A data.frame: 4 × 4</caption>\n",
       "<thead>\n",
       "\t<tr><th></th><th scope=col>Time</th><th scope=col>Observations</th><th scope=col>Predictions</th><th scope=col>Pred_Variance</th></tr>\n",
       "\t<tr><th></th><th scope=col>&lt;dbl&gt;</th><th scope=col>&lt;dbl&gt;</th><th scope=col>&lt;dbl&gt;</th><th scope=col>&lt;dbl&gt;</th></tr>\n",
       "</thead>\n",
       "<tbody>\n",
       "\t<tr><th scope=row>1</th><td>201</td><td> 0.94361</td><td>        NaN</td><td>         NaN</td></tr>\n",
       "\t<tr><th scope=row>2</th><td>202</td><td> 0.11227</td><td> 0.07707245</td><td>0.0001498777</td></tr>\n",
       "\t<tr><th scope=row>300</th><td>500</td><td>-1.09361</td><td>-1.08357510</td><td>0.0636647881</td></tr>\n",
       "\t<tr><th scope=row>301</th><td>501</td><td> 0.90944</td><td> 0.87294144</td><td>0.0025547247</td></tr>\n",
       "</tbody>\n",
       "</table>\n"
      ],
      "text/latex": [
       "A data.frame: 4 × 4\n",
       "\\begin{tabular}{r|llll}\n",
       "  & Time & Observations & Predictions & Pred\\_Variance\\\\\n",
       "  & <dbl> & <dbl> & <dbl> & <dbl>\\\\\n",
       "\\hline\n",
       "\t1 & 201 &  0.94361 &         NaN &          NaN\\\\\n",
       "\t2 & 202 &  0.11227 &  0.07707245 & 0.0001498777\\\\\n",
       "\t300 & 500 & -1.09361 & -1.08357510 & 0.0636647881\\\\\n",
       "\t301 & 501 &  0.90944 &  0.87294144 & 0.0025547247\\\\\n",
       "\\end{tabular}\n"
      ],
      "text/markdown": [
       "\n",
       "A data.frame: 4 × 4\n",
       "\n",
       "| <!--/--> | Time &lt;dbl&gt; | Observations &lt;dbl&gt; | Predictions &lt;dbl&gt; | Pred_Variance &lt;dbl&gt; |\n",
       "|---|---|---|---|---|\n",
       "| 1 | 201 |  0.94361 |         NaN |          NaN |\n",
       "| 2 | 202 |  0.11227 |  0.07707245 | 0.0001498777 |\n",
       "| 300 | 500 | -1.09361 | -1.08357510 | 0.0636647881 |\n",
       "| 301 | 501 |  0.90944 |  0.87294144 | 0.0025547247 |\n",
       "\n"
      ],
      "text/plain": [
       "    Time Observations Predictions Pred_Variance\n",
       "1   201   0.94361             NaN          NaN \n",
       "2   202   0.11227      0.07707245 0.0001498777 \n",
       "300 500  -1.09361     -1.08357510 0.0636647881 \n",
       "301 501   0.90944      0.87294144 0.0025547247 "
      ]
     },
     "metadata": {},
     "output_type": "display_data"
    },
    {
     "data": {
      "text/html": [
       "<dl>\n",
       "\t<dt>$MAE</dt>\n",
       "\t\t<dd>0.137345567727656</dd>\n",
       "\t<dt>$rho</dt>\n",
       "\t\t<dd>0.942229440707176</dd>\n",
       "\t<dt>$RMSE</dt>\n",
       "\t\t<dd>0.234871423811706</dd>\n",
       "</dl>\n"
      ],
      "text/latex": [
       "\\begin{description}\n",
       "\\item[\\$MAE] 0.137345567727656\n",
       "\\item[\\$rho] 0.942229440707176\n",
       "\\item[\\$RMSE] 0.234871423811706\n",
       "\\end{description}\n"
      ],
      "text/markdown": [
       "$MAE\n",
       ":   0.137345567727656\n",
       "$rho\n",
       ":   0.942229440707176\n",
       "$RMSE\n",
       ":   0.234871423811706\n",
       "\n",
       "\n"
      ],
      "text/plain": [
       "$MAE\n",
       "[1] 0.1373456\n",
       "\n",
       "$rho\n",
       "[1] 0.9422294\n",
       "\n",
       "$RMSE\n",
       "[1] 0.2348714\n"
      ]
     },
     "metadata": {},
     "output_type": "display_data"
    }
   ],
   "source": [
    "simplex_out <- Simplex(dataFrame = TentMap, lib = \"1 100\", pred = \"201 500\", columns = \"TentMap\",\n",
    "target = \"TentMap\", E = 3)\n",
    "simplex_out[c(1:2, 300:301), ]\n",
    "\n",
    "ComputeError(simplex_out$Observations, simplex_out$Predictions)"
   ]
  }
 ],
 "metadata": {
  "kernelspec": {
   "display_name": "R",
   "language": "R",
   "name": "ir"
  },
  "language_info": {
   "codemirror_mode": "r",
   "file_extension": ".r",
   "mimetype": "text/x-r-source",
   "name": "R",
   "pygments_lexer": "r",
   "version": "3.6.3"
  }
 },
 "nbformat": 4,
 "nbformat_minor": 4
}
