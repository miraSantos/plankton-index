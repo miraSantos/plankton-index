{
 "cells": [
  {
   "cell_type": "markdown",
   "metadata": {},
   "source": [
    "### Importing MVCO data"
   ]
  },
  {
   "cell_type": "code",
   "execution_count": null,
   "metadata": {},
   "outputs": [],
   "source": []
  },
  {
   "cell_type": "code",
   "execution_count": 33,
   "metadata": {},
   "outputs": [
    {
     "name": "stdout",
     "output_type": "stream",
     "text": [
      "               datetime  Acanthoica_quattrospina  Akashiwo  \\\n",
      "0  06-Jun-2006 18:56:16                 0.000000       0.0   \n",
      "1  06-Jun-2006 19:18:01                 0.000000       0.0   \n",
      "2  06-Jun-2006 20:23:16                 0.000000       0.0   \n",
      "3  06-Jun-2006 21:17:32                 0.000000       0.0   \n",
      "4  06-Jun-2006 22:25:43                34.815354       0.0   \n",
      "\n",
      "   Alexandrium_catenella  Amphidinium  Amylax  Apedinella  \\\n",
      "0                    0.0          0.0     0.0    0.000000   \n",
      "1                    0.0          0.0     0.0    0.000000   \n",
      "2                    0.0          0.0     0.0    0.000000   \n",
      "3                    0.0          0.0     0.0    0.000000   \n",
      "4                    0.0          0.0     0.0   96.448108   \n",
      "\n",
      "   Asterionellopsis_glacialis  Bacillaria  Bacillariophyceae  ...     pennate  \\\n",
      "0                  190.513016         0.0         311.643280  ...    0.000000   \n",
      "1                    0.000000         0.0          56.404548  ...  361.366141   \n",
      "2                  287.845912         0.0           0.000000  ...  249.044198   \n",
      "3                 1761.564562         0.0           0.000000  ...  166.405037   \n",
      "4                    0.000000         0.0         131.447005  ...  410.940359   \n",
      "\n",
      "   pennate_Pseudo-nitzschia  pennate_Thalassionema  pennate_morphotype1  \\\n",
      "0                       0.0                    0.0                  0.0   \n",
      "1                       0.0                    0.0                  0.0   \n",
      "2                       0.0                    0.0                  0.0   \n",
      "3                       0.0                    0.0                  0.0   \n",
      "4                       0.0                    0.0                  0.0   \n",
      "\n",
      "         pollen  shellfish_larvae  square_unknown  unknown2   zooplankton  id  \n",
      "0      0.000000               0.0             0.0       0.0      0.000000   0  \n",
      "1  11215.087384               0.0             0.0       0.0      0.000000   1  \n",
      "2      0.000000               0.0             0.0       0.0      0.000000   2  \n",
      "3      0.000000               0.0             0.0       0.0      0.000000   3  \n",
      "4      0.000000               0.0             0.0       0.0  14566.283595   4  \n",
      "\n",
      "[5 rows x 157 columns]\n"
     ]
    }
   ],
   "source": [
    "import numpy as np\n",
    "import scipy as sp\n",
    "from scipy.spatial import ConvexHull, convex_hull_plot_2d\n",
    "import matplotlib.pyplot as plt\n",
    "import pandas as pd\n",
    "\n",
    "df = pd.read_csv('/D/MIT-WHOI/data/2021/biovol_concentration_by_class_time_seriesCNN_hourly.csv')\n",
    "df[\"id\"] = df.index\n",
    "\n",
    "print(df.head())\n",
    "# print(list(df.columns))\n",
    "\n",
    "df_filtered =pd.melt(df,id_vars = ['datetime'], var_name = 'species',value_name='biovol/mL')"
   ]
  },
  {
   "cell_type": "code",
   "execution_count": 34,
   "metadata": {},
   "outputs": [
    {
     "name": "stdout",
     "output_type": "stream",
     "text": [
      "                                        species   group  present\n",
      "0                       Chaetoceros_tenuissimus  Diatom      1.0\n",
      "1                             Cylindrotheca_min  Diatom      1.0\n",
      "2                          Eucampia_morphytype1  Diatom      1.0\n",
      "3  Guinardia_delicatula_TAG_Amphidinium_grazing  Diatom      1.0\n",
      "4                        Hemiaulus_membranaceus  Diatom      1.0\n",
      "               datetime                  species  biovol/mL            group  \\\n",
      "0  06-Jun-2006 18:56:16  Acanthoica_quattrospina        0.0  Coccolithophore   \n",
      "0  06-Jun-2006 18:56:16  Acanthoica_quattrospina        0.0             Nano   \n",
      "1  06-Jun-2006 19:18:01  Acanthoica_quattrospina        0.0  Coccolithophore   \n",
      "1  06-Jun-2006 19:18:01  Acanthoica_quattrospina        0.0             Nano   \n",
      "2  06-Jun-2006 20:23:16  Acanthoica_quattrospina        0.0  Coccolithophore   \n",
      "\n",
      "   present  \n",
      "0      1.0  \n",
      "0      1.0  \n",
      "1      1.0  \n",
      "1      1.0  \n",
      "2      1.0  \n"
     ]
    }
   ],
   "source": [
    "clist = pd.read_csv('/D/MIT-WHOI/data/2021/IFCB_classlist_type.csv')\n",
    "# print(clist.head())\n",
    "# print(list(clist.columns)[0])\n",
    "\n",
    "clist = pd.melt(clist,id_vars = ['CNN_classlist'], var_name = 'group',value_name='in_out')\n",
    "\n",
    "clist_filtered = clist[clist['in_out']==1]\n",
    "\n",
    "clist_filtered = clist_filtered.rename(columns = {\"CNN_classlist\":'species','in_out':'present'})\n",
    "\n",
    "print(clist_filtered.head())\n",
    "\n",
    "merged = df_filtered.join(clist_filtered.set_index('species'),on = 'species')\n",
    "\n",
    "print(merged.head())"
   ]
  },
  {
   "cell_type": "code",
   "execution_count": 37,
   "metadata": {},
   "outputs": [],
   "source": [
    "df_long = merged[['datetime','group','biovol/mL']]\n",
    "\n",
    "df_short = df_long.pivot_table(index=[\"datetime\"], \n",
    "                    columns='group', \n",
    "                    values='biovol/mL')"
   ]
  },
  {
   "cell_type": "code",
   "execution_count": 52,
   "metadata": {},
   "outputs": [
    {
     "ename": "ValueError",
     "evalue": "cannot insert datetime, already exists",
     "output_type": "error",
     "traceback": [
      "\u001b[0;31m--------------------------------------------------------------------------\u001b[0m",
      "\u001b[0;31mValueError\u001b[0m                               Traceback (most recent call last)",
      "\u001b[0;32m<ipython-input-52-57abbddeeaa9>\u001b[0m in \u001b[0;36m<module>\u001b[0;34m\u001b[0m\n\u001b[1;32m      2\u001b[0m \u001b[0;34m\u001b[0m\u001b[0m\n\u001b[1;32m      3\u001b[0m \u001b[0mdf_short\u001b[0m\u001b[0;34m.\u001b[0m\u001b[0mindex\u001b[0m\u001b[0;34m.\u001b[0m\u001b[0mname\u001b[0m \u001b[0;34m=\u001b[0m \u001b[0;34m'datetime'\u001b[0m\u001b[0;34m\u001b[0m\u001b[0;34m\u001b[0m\u001b[0m\n\u001b[0;32m----> 4\u001b[0;31m \u001b[0mdf_short\u001b[0m\u001b[0;34m.\u001b[0m\u001b[0mreset_index\u001b[0m\u001b[0;34m(\u001b[0m\u001b[0minplace\u001b[0m\u001b[0;34m=\u001b[0m\u001b[0;32mTrue\u001b[0m\u001b[0;34m)\u001b[0m\u001b[0;34m\u001b[0m\u001b[0;34m\u001b[0m\u001b[0m\n\u001b[0m",
      "\u001b[0;32m~/anaconda3/lib/python3.8/site-packages/pandas/core/frame.py\u001b[0m in \u001b[0;36mreset_index\u001b[0;34m(self, level, drop, inplace, col_level, col_fill)\u001b[0m\n\u001b[1;32m   4853\u001b[0m                 \u001b[0;31m# to ndarray and maybe infer different dtype\u001b[0m\u001b[0;34m\u001b[0m\u001b[0;34m\u001b[0m\u001b[0;34m\u001b[0m\u001b[0m\n\u001b[1;32m   4854\u001b[0m                 \u001b[0mlevel_values\u001b[0m \u001b[0;34m=\u001b[0m \u001b[0m_maybe_casted_values\u001b[0m\u001b[0;34m(\u001b[0m\u001b[0mlev\u001b[0m\u001b[0;34m,\u001b[0m \u001b[0mlab\u001b[0m\u001b[0;34m)\u001b[0m\u001b[0;34m\u001b[0m\u001b[0;34m\u001b[0m\u001b[0m\n\u001b[0;32m-> 4855\u001b[0;31m                 \u001b[0mnew_obj\u001b[0m\u001b[0;34m.\u001b[0m\u001b[0minsert\u001b[0m\u001b[0;34m(\u001b[0m\u001b[0;36m0\u001b[0m\u001b[0;34m,\u001b[0m \u001b[0mname\u001b[0m\u001b[0;34m,\u001b[0m \u001b[0mlevel_values\u001b[0m\u001b[0;34m)\u001b[0m\u001b[0;34m\u001b[0m\u001b[0;34m\u001b[0m\u001b[0m\n\u001b[0m\u001b[1;32m   4856\u001b[0m \u001b[0;34m\u001b[0m\u001b[0m\n\u001b[1;32m   4857\u001b[0m         \u001b[0mnew_obj\u001b[0m\u001b[0;34m.\u001b[0m\u001b[0mindex\u001b[0m \u001b[0;34m=\u001b[0m \u001b[0mnew_index\u001b[0m\u001b[0;34m\u001b[0m\u001b[0;34m\u001b[0m\u001b[0m\n",
      "\u001b[0;32m~/anaconda3/lib/python3.8/site-packages/pandas/core/frame.py\u001b[0m in \u001b[0;36minsert\u001b[0;34m(self, loc, column, value, allow_duplicates)\u001b[0m\n\u001b[1;32m   3622\u001b[0m         \u001b[0mself\u001b[0m\u001b[0;34m.\u001b[0m\u001b[0m_ensure_valid_index\u001b[0m\u001b[0;34m(\u001b[0m\u001b[0mvalue\u001b[0m\u001b[0;34m)\u001b[0m\u001b[0;34m\u001b[0m\u001b[0;34m\u001b[0m\u001b[0m\n\u001b[1;32m   3623\u001b[0m         \u001b[0mvalue\u001b[0m \u001b[0;34m=\u001b[0m \u001b[0mself\u001b[0m\u001b[0;34m.\u001b[0m\u001b[0m_sanitize_column\u001b[0m\u001b[0;34m(\u001b[0m\u001b[0mcolumn\u001b[0m\u001b[0;34m,\u001b[0m \u001b[0mvalue\u001b[0m\u001b[0;34m,\u001b[0m \u001b[0mbroadcast\u001b[0m\u001b[0;34m=\u001b[0m\u001b[0;32mFalse\u001b[0m\u001b[0;34m)\u001b[0m\u001b[0;34m\u001b[0m\u001b[0;34m\u001b[0m\u001b[0m\n\u001b[0;32m-> 3624\u001b[0;31m         \u001b[0mself\u001b[0m\u001b[0;34m.\u001b[0m\u001b[0m_mgr\u001b[0m\u001b[0;34m.\u001b[0m\u001b[0minsert\u001b[0m\u001b[0;34m(\u001b[0m\u001b[0mloc\u001b[0m\u001b[0;34m,\u001b[0m \u001b[0mcolumn\u001b[0m\u001b[0;34m,\u001b[0m \u001b[0mvalue\u001b[0m\u001b[0;34m,\u001b[0m \u001b[0mallow_duplicates\u001b[0m\u001b[0;34m=\u001b[0m\u001b[0mallow_duplicates\u001b[0m\u001b[0;34m)\u001b[0m\u001b[0;34m\u001b[0m\u001b[0;34m\u001b[0m\u001b[0m\n\u001b[0m\u001b[1;32m   3625\u001b[0m \u001b[0;34m\u001b[0m\u001b[0m\n\u001b[1;32m   3626\u001b[0m     \u001b[0;32mdef\u001b[0m \u001b[0massign\u001b[0m\u001b[0;34m(\u001b[0m\u001b[0mself\u001b[0m\u001b[0;34m,\u001b[0m \u001b[0;34m**\u001b[0m\u001b[0mkwargs\u001b[0m\u001b[0;34m)\u001b[0m \u001b[0;34m->\u001b[0m \u001b[0;34m\"DataFrame\"\u001b[0m\u001b[0;34m:\u001b[0m\u001b[0;34m\u001b[0m\u001b[0;34m\u001b[0m\u001b[0m\n",
      "\u001b[0;32m~/anaconda3/lib/python3.8/site-packages/pandas/core/internals/managers.py\u001b[0m in \u001b[0;36minsert\u001b[0;34m(self, loc, item, value, allow_duplicates)\u001b[0m\n\u001b[1;32m   1175\u001b[0m         \u001b[0;32mif\u001b[0m \u001b[0;32mnot\u001b[0m \u001b[0mallow_duplicates\u001b[0m \u001b[0;32mand\u001b[0m \u001b[0mitem\u001b[0m \u001b[0;32min\u001b[0m \u001b[0mself\u001b[0m\u001b[0;34m.\u001b[0m\u001b[0mitems\u001b[0m\u001b[0;34m:\u001b[0m\u001b[0;34m\u001b[0m\u001b[0;34m\u001b[0m\u001b[0m\n\u001b[1;32m   1176\u001b[0m             \u001b[0;31m# Should this be a different kind of error??\u001b[0m\u001b[0;34m\u001b[0m\u001b[0;34m\u001b[0m\u001b[0;34m\u001b[0m\u001b[0m\n\u001b[0;32m-> 1177\u001b[0;31m             \u001b[0;32mraise\u001b[0m \u001b[0mValueError\u001b[0m\u001b[0;34m(\u001b[0m\u001b[0;34mf\"cannot insert {item}, already exists\"\u001b[0m\u001b[0;34m)\u001b[0m\u001b[0;34m\u001b[0m\u001b[0;34m\u001b[0m\u001b[0m\n\u001b[0m\u001b[1;32m   1178\u001b[0m \u001b[0;34m\u001b[0m\u001b[0m\n\u001b[1;32m   1179\u001b[0m         \u001b[0;32mif\u001b[0m \u001b[0;32mnot\u001b[0m \u001b[0misinstance\u001b[0m\u001b[0;34m(\u001b[0m\u001b[0mloc\u001b[0m\u001b[0;34m,\u001b[0m \u001b[0mint\u001b[0m\u001b[0;34m)\u001b[0m\u001b[0;34m:\u001b[0m\u001b[0;34m\u001b[0m\u001b[0;34m\u001b[0m\u001b[0m\n",
      "\u001b[0;31mValueError\u001b[0m: cannot insert datetime, already exists"
     ]
    }
   ],
   "source": [
    "df_short.head()\n",
    "\n",
    "df_short.index.name = 'datetime'\n",
    "df_short.reset_index(inplace=True)"
   ]
  },
  {
   "cell_type": "code",
   "execution_count": 73,
   "metadata": {},
   "outputs": [
    {
     "name": "stdout",
     "output_type": "stream",
     "text": [
      "group               datetime      Ciliate  Coccolithophore        Diatom  \\\n",
      "datetime                                                                   \n",
      "0        2007-04-01 00:28:14  1952.162094       128.998273  30550.985713   \n",
      "1        2007-04-01 01:22:34  1888.968813        89.118841  27507.200308   \n",
      "2        2007-04-01 02:27:47  2734.251767       219.056383  25738.830229   \n",
      "3        2007-04-01 03:33:02  1506.973968        73.365809  31687.382353   \n",
      "4        2007-04-01 04:27:21  2232.721254        82.716600  29088.064968   \n",
      "\n",
      "group     Dinoflagellate  IFCB artifact         Nano    Other live  \\\n",
      "datetime                                                             \n",
      "0            2599.249141     670.644834  7367.429339    453.713189   \n",
      "1            3102.500260     565.436912  8360.338310  25927.564471   \n",
      "2            2365.043237     897.389025  8509.690338    832.300632   \n",
      "3            2894.457052    2653.760872  8237.828202   8212.188449   \n",
      "4            2810.684279     485.804170  8505.711531    267.929262   \n",
      "\n",
      "group     Other not alive   flagellate  pennatediatom         year  \n",
      "datetime                                                            \n",
      "0             5210.114861  9417.239577    8072.702143  2007.249315  \n",
      "1             3278.830726  7379.291988    2311.426774  2007.249315  \n",
      "2             5582.237795  7634.988547    1222.872836  2007.249315  \n",
      "3             2961.487625  6827.584882    1858.771796  2007.249315  \n",
      "4             2237.366669  7458.138996    2141.084450  2007.249315  \n"
     ]
    }
   ],
   "source": [
    "\n",
    "df_short['datetime'].head()\n",
    "\n",
    "df_short['datetime'] =  pd.to_datetime(df_short['datetime'], format=\"%d-%b-%Y %X\")\n",
    "\n",
    "\n",
    "\n",
    "year = pd.to_numeric(df_short[\"datetime\"].dt.year)\n",
    "doy = pd.to_numeric(df_short[\"datetime\"].dt.dayofyear).div(365)\n",
    "\n",
    "df_short[\"year\"] = year + doy\n",
    "\n",
    "print(df_short.head())\n",
    "\n",
    "\n",
    "df_dd = df_short[[\"year\",\"Diatom\",\"Dinoflagellate\"]]\n",
    "\n",
    "df_dd.to_csv('/D/MIT-WHOI/github_repos/plankton-index/df_dd.txt',sep= \" \",index = False)\n",
    "# from datetime import datetime\n",
    "# day_of_year = datetime.now().timetuple().tm_yday \n",
    "# print(day_of_year)\n",
    "\n",
    "# df_short['datetime'].dtypes\n"
   ]
  },
  {
   "cell_type": "code",
   "execution_count": null,
   "metadata": {},
   "outputs": [],
   "source": [
    "#for nice latex fonts\n",
    "from matplotlib import rc\n",
    "rc('font',**{'family':'sans-serif','sans-serif':['Helvetica']})\n",
    "## for Palatino and other serif fonts use:\n",
    "#rc('font',**{'family':'serif','serif':['Palatino']})\n",
    "rc('text', usetex=True)\n",
    "\n",
    "\n",
    "from matplotlib.pyplot import figure\n",
    "from scipy.stats import gaussian_kde #req'd for density dot plot\n",
    "\n",
    "figure(figsize=(10, 10), dpi=80) \n",
    "\n",
    "plt.rc('text', usetex=True)\n",
    "plt.rc('font', family='serif')\n",
    "\n",
    "xy = np.vstack([df_dd['Diatom'],df_dd['Dinoflagellate']])\n",
    "z = gaussian_kde(xy)(xy)\n",
    "\n",
    "plt.scatter(np.log(df_dd['Diatom']),np.log(df_dd['Dinoflagellate']),c = z, s = 100)\n",
    "plt.xlabel(r'\\textbf{time} (s)')\n",
    "plt.ylabel(r'\\textit{voltage} (mV)',fontsize=16)"
   ]
  },
  {
   "cell_type": "code",
   "execution_count": null,
   "metadata": {},
   "outputs": [],
   "source": [
    "import pylab\n",
    "\n",
    "fig = plt.figure()\n",
    "ax = fig.add_subplot(2, 1, 1)\n",
    "\n",
    "line, = ax.plot(df_dd[\"Diatom\"],df_dd[\"Dinoflagellate\"], color='blue', lw=2)\n",
    "\n",
    "ax.set_yscale('log')\n",
    "ax.set_xscale('log')\n",
    "\n",
    "\n",
    "pylab.show()"
   ]
  }
 ],
 "metadata": {
  "kernelspec": {
   "display_name": "Python 3",
   "language": "python",
   "name": "python3"
  },
  "language_info": {
   "codemirror_mode": {
    "name": "ipython",
    "version": 3
   },
   "file_extension": ".py",
   "mimetype": "text/x-python",
   "name": "python",
   "nbconvert_exporter": "python",
   "pygments_lexer": "ipython3",
   "version": "3.8.5"
  }
 },
 "nbformat": 4,
 "nbformat_minor": 4
}
